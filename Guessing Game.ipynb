{
 "cells": [
  {
   "cell_type": "code",
   "execution_count": 43,
   "metadata": {},
   "outputs": [
    {
     "ename": "IndentationError",
     "evalue": "expected an indented block after 'while' statement on line 5 (4252203430.py, line 6)",
     "output_type": "error",
     "traceback": [
      "\u001b[1;36m  Cell \u001b[1;32mIn [43], line 6\u001b[1;36m\u001b[0m\n\u001b[1;33m    guess_num = input ('guess a number')\u001b[0m\n\u001b[1;37m    ^\u001b[0m\n\u001b[1;31mIndentationError\u001b[0m\u001b[1;31m:\u001b[0m expected an indented block after 'while' statement on line 5\n"
     ]
    }
   ],
   "source": [
    "# first attempt \n",
    "import random\n",
    "\n",
    "random_num = random.randint(1,10)\n",
    "while True:\n",
    "guess_num = input ('guess a number')\n",
    "if guess_num == True:\n",
    "    print('you have won')\n",
    "    \n",
    "else: print('sorry, try gain!')\n",
    "\n",
    "\n"
   ]
  },
  {
   "cell_type": "code",
   "execution_count": null,
   "metadata": {},
   "outputs": [],
   "source": [
    "## second attemp \n",
    "import random\n",
    "\n",
    "random_num = random.randint(1, 100)\n",
    "\n",
    "while True:\n",
    "    guess_num = (input(\"guess the number between 1 to 100\"))\n",
    "\n",
    "    difference = random_num - int(guess_num)\n",
    "\n",
    "    if difference < 0:\n",
    "        print(\"Your guess is too high! Try again!\")\n",
    "    elif difference > 0:\n",
    "        print(\"Your guess is too low! Try again!\")\n",
    "    elif difference == 0:\n",
    "        print(\"Your guess is correct!!\")\n",
    "        break\n",
    "\n"
   ]
  }
 ],
 "metadata": {
  "kernelspec": {
   "display_name": "Python 3.10.7 64-bit",
   "language": "python",
   "name": "python3"
  },
  "language_info": {
   "codemirror_mode": {
    "name": "ipython",
    "version": 3
   },
   "file_extension": ".py",
   "mimetype": "text/x-python",
   "name": "python",
   "nbconvert_exporter": "python",
   "pygments_lexer": "ipython3",
   "version": "3.10.7"
  },
  "orig_nbformat": 4,
  "vscode": {
   "interpreter": {
    "hash": "63963b3f4c440940f0b94a3100916033a226cb4f45979123153792d60aa56d6a"
   }
  }
 },
 "nbformat": 4,
 "nbformat_minor": 2
}
